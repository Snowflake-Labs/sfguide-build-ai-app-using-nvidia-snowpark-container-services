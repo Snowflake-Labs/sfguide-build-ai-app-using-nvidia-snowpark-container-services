{
 "cells": [
  {
   "cell_type": "code",
   "execution_count": 52,
   "id": "ac52bad7-17a9-476a-a79e-ac0780ec879c",
   "metadata": {
    "tags": []
   },
   "outputs": [
    {
     "name": "stdout",
     "output_type": "stream",
     "text": [
      "\n",
      "Snowflake was co-founded in 2012 by Benoit Dageville, Marcin Zukowski and Evan White. The company is headquartered in Bozeman, Montana with additional offices around the world including San Francisco; New York City; Washington DC area (Herndon VA); Paris France & Tel Aviv Israel . Prior to starting snow flakes they worked together at various companies such as Oracle , Salesforce etc., where they gained experience working on large scale data warehousing projects for clients like Coca Cola or American Express among others.. Since its foundingsnows have grown rapidly into one of leading cloud based bigdata solutions providers serving hundreds customers across different industries globally today!</s>\n"
     ]
    }
   ],
   "source": [
    "from openai import OpenAI\n",
    "import os\n",
    "\n",
    "model=os.environ[\"OPENAI_MODEL\"]\n",
    "\n",
    "client = OpenAI()\n",
    "\n",
    "completion = client.completions.create(\n",
    "  model=model,\n",
    "  prompt=\"Who founded Snowflake?\",\n",
    "  max_tokens=500\n",
    ")\n",
    "\n",
    "print(completion.choices[0].text)\n"
   ]
  },
  {
   "cell_type": "code",
   "execution_count": 59,
   "id": "ee0f01f1-1bdd-4aab-a9a3-c46b08155b4b",
   "metadata": {
    "tags": []
   },
   "outputs": [
    {
     "name": "stdout",
     "output_type": "stream",
     "text": [
      "  Sure! Here's one:\n",
      "\n",
      "Why did the snowflake go to therapy? Because it had too many layers and was feeling \"overwhelmed\"!</s>\n"
     ]
    }
   ],
   "source": [
    "from openai import OpenAI\n",
    "import os\n",
    "\n",
    "model=os.environ[\"OPENAI_MODEL\"]\n",
    "\n",
    "client = OpenAI()\n",
    "\n",
    "completion = client.completions.create(\n",
    "  model=model,\n",
    "  prompt=\"[INST] Can you tell me a joke [/INST] [INST] another about Snowflake [/INST]\",\n",
    "  max_tokens=500\n",
    ")\n",
    "\n",
    "print(completion.choices[0].text)"
   ]
  },
  {
   "cell_type": "code",
   "execution_count": 64,
   "id": "742670ab-178f-4b08-9508-d0bf68652abb",
   "metadata": {
    "tags": []
   },
   "outputs": [
    {
     "name": "stdout",
     "output_type": "stream",
     "text": [
      "<< sys >> Ahh, yes! Let me think for a moment... Okay, here's one for ya: What do you call a snowman who doesn't like his job at the ski resort? A flakey employee! Hehe, I know, I know - they can be corny sometimes but hey, winter jokes just make us all warm and fuzzy inside, right? >^_^-)>  \n"
     ]
    }
   ],
   "source": [
    "from openai import OpenAI\n",
    "import os\n",
    "\n",
    "model=os.environ[\"OPENAI_MODEL\"]\n",
    "\n",
    "client = OpenAI()\n",
    "\n",
    "completion = client.chat.completions.create(\n",
    "  model=model,\n",
    "  messages=[{\"role\": \"user\", \"content\": \"Can you tell me a joke?\"},{\"role\": \"assistant\", \"content\":\"<<sys> Sure! Here's one: Why couldn't the bicycle stand up by itself? Because it was two-tired. Get it? Two tired... haha, I hope that made you smile! Do you want to hear another one?>\"},{\"role\": \"user\", \"content\": \"Another about Snowflake?\"}],\n",
    "  max_tokens=500\n",
    ")\n",
    "\n",
    "print(completion.choices[0].message.content)"
   ]
  },
  {
   "cell_type": "code",
   "execution_count": 53,
   "id": "ae32ef61-560d-4916-b197-ae3e0ac0edb6",
   "metadata": {
    "tags": []
   },
   "outputs": [
    {
     "name": "stdout",
     "output_type": "stream",
     "text": [
      "# packages in environment at /home/jupyter/.conda/envs/py311_openai:\n",
      "openai                    1.3.6           py311h06a4308_0  \n"
     ]
    }
   ],
   "source": [
    "!conda list | grep openai"
   ]
  }
 ],
 "metadata": {
  "kernelspec": {
   "display_name": "Python [conda env:.conda-py311_openai]",
   "language": "python",
   "name": "conda-env-.conda-py311_openai-py"
  },
  "language_info": {
   "codemirror_mode": {
    "name": "ipython",
    "version": 3
   },
   "file_extension": ".py",
   "mimetype": "text/x-python",
   "name": "python",
   "nbconvert_exporter": "python",
   "pygments_lexer": "ipython3",
   "version": "3.11.7"
  }
 },
 "nbformat": 4,
 "nbformat_minor": 5
}
